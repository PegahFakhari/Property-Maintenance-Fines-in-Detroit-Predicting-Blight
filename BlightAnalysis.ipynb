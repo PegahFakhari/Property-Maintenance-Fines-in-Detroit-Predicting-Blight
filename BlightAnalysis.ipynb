{
 "cells": [
  {
   "cell_type": "markdown",
   "metadata": {},
   "source": [
    "---\n",
    "\n",
    "_You are currently looking at **version 1.1** of this notebook. To download notebooks and datafiles, as well as get help on Jupyter notebooks in the Coursera platform, visit the [Jupyter Notebook FAQ](https://www.coursera.org/learn/python-machine-learning/resources/bANLa) course resource._\n",
    "\n",
    "---"
   ]
  },
  {
   "cell_type": "markdown",
   "metadata": {},
   "source": [
    "## Assignment 4 - Understanding and Predicting Property Maintenance Fines\n",
    "\n",
    "This assignment is based on a data challenge from the Michigan Data Science Team ([MDST](http://midas.umich.edu/mdst/)). \n",
    "\n",
    "The Michigan Data Science Team ([MDST](http://midas.umich.edu/mdst/)) and the Michigan Student Symposium for Interdisciplinary Statistical Sciences ([MSSISS](https://sites.lsa.umich.edu/mssiss/)) have partnered with the City of Detroit to help solve one of the most pressing problems facing Detroit - blight. [Blight violations](http://www.detroitmi.gov/How-Do-I/Report/Blight-Complaint-FAQs) are issued by the city to individuals who allow their properties to remain in a deteriorated condition. Every year, the city of Detroit issues millions of dollars in fines to residents and every year, many of these fines remain unpaid. Enforcing unpaid blight fines is a costly and tedious process, so the city wants to know: how can we increase blight ticket compliance?\n",
    "\n",
    "The first step in answering this question is understanding when and why a resident might fail to comply with a blight ticket. This is where predictive modeling comes in. For this assignment, your task is to predict whether a given blight ticket will be paid on time.\n",
    "\n",
    "All data for this assignment has been provided to us through the [Detroit Open Data Portal](https://data.detroitmi.gov/). **Only the data already included in your Coursera directory can be used for training the model for this assignment.** Nonetheless, we encourage you to look into data from other Detroit datasets to help inform feature creation and model selection. We recommend taking a look at the following related datasets:\n",
    "\n",
    "* [Building Permits](https://data.detroitmi.gov/Property-Parcels/Building-Permits/xw2a-a7tf)\n",
    "* [Trades Permits](https://data.detroitmi.gov/Property-Parcels/Trades-Permits/635b-dsgv)\n",
    "* [Improve Detroit: Submitted Issues](https://data.detroitmi.gov/Government/Improve-Detroit-Submitted-Issues/fwz3-w3yn)\n",
    "* [DPD: Citizen Complaints](https://data.detroitmi.gov/Public-Safety/DPD-Citizen-Complaints-2016/kahe-efs3)\n",
    "* [Parcel Map](https://data.detroitmi.gov/Property-Parcels/Parcel-Map/fxkw-udwf)\n",
    "\n",
    "___\n",
    "\n",
    "We provide you with two data files for use in training and validating your models: train.csv and test.csv. Each row in these two files corresponds to a single blight ticket, and includes information about when, why, and to whom each ticket was issued. The target variable is compliance, which is True if the ticket was paid early, on time, or within one month of the hearing data, False if the ticket was paid after the hearing date or not at all, and Null if the violator was found not responsible. Compliance, as well as a handful of other variables that will not be available at test-time, are only included in train.csv.\n",
    "\n",
    "Note: All tickets where the violators were found not responsible are not considered during evaluation. They are included in the training set as an additional source of data for visualization, and to enable unsupervised and semi-supervised approaches. However, they are not included in the test set.\n",
    "\n",
    "<br>\n",
    "\n",
    "**File descriptions** (Use only this data for training your model!)\n",
    "\n",
    "    train.csv - the training set (all tickets issued 2004-2011)\n",
    "    test.csv - the test set (all tickets issued 2012-2016)\n",
    "    addresses.csv & latlons.csv - mapping from ticket id to addresses, and from addresses to lat/lon coordinates. \n",
    "     Note: misspelled addresses may be incorrectly geolocated.\n",
    "\n",
    "<br>\n",
    "\n",
    "**Data fields**\n",
    "\n",
    "train.csv & test.csv\n",
    "\n",
    "    ticket_id - unique identifier for tickets\n",
    "    agency_name - Agency that issued the ticket\n",
    "    inspector_name - Name of inspector that issued the ticket\n",
    "    violator_name - Name of the person/organization that the ticket was issued to\n",
    "    violation_street_number, violation_street_name, violation_zip_code - Address where the violation occurred\n",
    "    mailing_address_str_number, mailing_address_str_name, city, state, zip_code, non_us_str_code, country - Mailing address of the violator\n",
    "    ticket_issued_date - Date and time the ticket was issued\n",
    "    hearing_date - Date and time the violator's hearing was scheduled\n",
    "    violation_code, violation_description - Type of violation\n",
    "    disposition - Judgment and judgement type\n",
    "    fine_amount - Violation fine amount, excluding fees\n",
    "    admin_fee - $20 fee assigned to responsible judgments\n",
    "state_fee - $10 fee assigned to responsible judgments\n",
    "    late_fee - 10% fee assigned to responsible judgments\n",
    "    discount_amount - discount applied, if any\n",
    "    clean_up_cost - DPW clean-up or graffiti removal cost\n",
    "    judgment_amount - Sum of all fines and fees\n",
    "    grafitti_status - Flag for graffiti violations\n",
    "    \n",
    "train.csv only\n",
    "\n",
    "    payment_amount - Amount paid, if any\n",
    "    payment_date - Date payment was made, if it was received\n",
    "    payment_status - Current payment status as of Feb 1 2017\n",
    "    balance_due - Fines and fees still owed\n",
    "    collection_status - Flag for payments in collections\n",
    "    compliance [target variable for prediction] \n",
    "     Null = Not responsible\n",
    "     0 = Responsible, non-compliant\n",
    "     1 = Responsible, compliant\n",
    "    compliance_detail - More information on why each ticket was marked compliant or non-compliant\n",
    "\n",
    "\n",
    "___\n",
    "\n",
    "## Evaluation\n",
    "\n",
    "Your predictions will be given as the probability that the corresponding blight ticket will be paid on time.\n",
    "\n",
    "The evaluation metric for this assignment is the Area Under the ROC Curve (AUC). \n",
    "\n",
    "Your grade will be based on the AUC score computed for your classifier. A model which with an AUROC of 0.7 passes this assignment, over 0.75 will recieve full points.\n",
    "___\n",
    "\n",
    "For this assignment, create a function that trains a model to predict blight ticket compliance in Detroit using `train.csv`. Using this model, return a series of length 61001 with the data being the probability that each corresponding ticket from `test.csv` will be paid, and the index being the ticket_id.\n",
    "\n",
    "Example:\n",
    "\n",
    "    ticket_id\n",
    "       284932    0.531842\n",
    "       285362    0.401958\n",
    "       285361    0.105928\n",
    "       285338    0.018572\n",
    "                 ...\n",
    "       376499    0.208567\n",
    "       376500    0.818759\n",
    "       369851    0.018528\n",
    "       Name: compliance, dtype: float32\n",
    "       \n",
    "### Hints\n",
    "\n",
    "* Make sure your code is working before submitting it to the autograder.\n",
    "\n",
    "* Print out your result to see whether there is anything weird (e.g., all probabilities are the same).\n",
    "\n",
    "* Generally the total runtime should be less than 10 mins. You should NOT use Neural Network related classifiers (e.g., MLPClassifier) in this question. \n",
    "\n",
    "* Try to avoid global variables. If you have other functions besides blight_model, you should move those functions inside the scope of blight_model.\n",
    "\n",
    "* Refer to the pinned threads in Week 4's discussion forum when there is something you could not figure it out."
   ]
  },
  {
   "cell_type": "code",
   "execution_count": 1,
   "metadata": {
    "collapsed": true
   },
   "outputs": [],
   "source": [
    "import pandas as pd\n",
    "import numpy as np\n",
    "import matplotlib.pyplot as plt\n",
    "import datetime as datetime"
   ]
  },
  {
   "cell_type": "code",
   "execution_count": 2,
   "metadata": {
    "collapsed": true
   },
   "outputs": [],
   "source": [
    "from sklearn.linear_model import LogisticRegression\n",
    "from sklearn.naive_bayes import GaussianNB\n",
    "from sklearn.ensemble import RandomForestClassifier\n",
    "from sklearn.ensemble import GradientBoostingClassifier\n",
    "from sklearn.neural_network import MLPClassifier\n",
    "from sklearn.dummy import DummyClassifier\n",
    "from sklearn.svm import SVC\n",
    "from sklearn.tree import DecisionTreeClassifier\n",
    "from sklearn.model_selection import cross_val_score"
   ]
  },
  {
   "cell_type": "code",
   "execution_count": 30,
   "metadata": {},
   "outputs": [],
   "source": [
    "trainData = pd.read_csv('train.csv',encoding = 'ISO-8859-1')\n",
    "testData = pd.read_csv('test.csv')\n",
    "address = pd.read_csv('addresses.csv')\n",
    "latlons = pd.read_csv('latlons.csv')"
   ]
  },
  {
   "cell_type": "code",
   "execution_count": 13,
   "metadata": {},
   "outputs": [
    {
     "name": "stdout",
     "output_type": "stream",
     "text": [
      "   ticket_id                                     agency_name  \\\n",
      "0      22056  Buildings, Safety Engineering & Env Department   \n",
      "1      27586  Buildings, Safety Engineering & Env Department   \n",
      "2      22062  Buildings, Safety Engineering & Env Department   \n",
      "3      22084  Buildings, Safety Engineering & Env Department   \n",
      "4      22093  Buildings, Safety Engineering & Env Department   \n",
      "\n",
      "     inspector_name                      violator_name  \\\n",
      "0   Sims, Martinzie  INVESTMENT INC., MIDWEST MORTGAGE   \n",
      "1  Williams, Darrin           Michigan, Covenant House   \n",
      "2   Sims, Martinzie                    SANDERS, DERRON   \n",
      "3   Sims, Martinzie                       MOROSI, MIKE   \n",
      "4   Sims, Martinzie                    NATHANIEL, NEAL   \n",
      "\n",
      "   violation_street_number violation_street_name  violation_zip_code  \\\n",
      "0                   2900.0                 TYLER                 NaN   \n",
      "1                   4311.0               CENTRAL                 NaN   \n",
      "2                   1449.0            LONGFELLOW                 NaN   \n",
      "3                   1441.0            LONGFELLOW                 NaN   \n",
      "4                   2449.0             CHURCHILL                 NaN   \n",
      "\n",
      "   mailing_address_str_number mailing_address_str_name     city     ...      \\\n",
      "0                         3.0                S. WICKER  CHICAGO     ...       \n",
      "1                      2959.0       Martin Luther King  Detroit     ...       \n",
      "2                     23658.0                 P.O. BOX  DETROIT     ...       \n",
      "3                         5.0                ST. CLAIR  DETROIT     ...       \n",
      "4                      7449.0                CHURCHILL  DETROIT     ...       \n",
      "\n",
      "  clean_up_cost judgment_amount payment_amount balance_due  \\\n",
      "0           0.0           305.0            0.0       305.0   \n",
      "1           0.0           855.0          780.0        75.0   \n",
      "2           0.0             0.0            0.0         0.0   \n",
      "3           0.0             0.0            0.0         0.0   \n",
      "4           0.0             0.0            0.0         0.0   \n",
      "\n",
      "          payment_date      payment_status collection_status grafitti_status  \\\n",
      "0                  NaN  NO PAYMENT APPLIED               NaN             NaN   \n",
      "1  2005-06-02 00:00:00        PAID IN FULL               NaN             NaN   \n",
      "2                  NaN  NO PAYMENT APPLIED               NaN             NaN   \n",
      "3                  NaN  NO PAYMENT APPLIED               NaN             NaN   \n",
      "4                  NaN  NO PAYMENT APPLIED               NaN             NaN   \n",
      "\n",
      "                          compliance_detail  compliance  \n",
      "0               non-compliant by no payment         0.0  \n",
      "1  compliant by late payment within 1 month         1.0  \n",
      "2            not responsible by disposition         NaN  \n",
      "3            not responsible by disposition         NaN  \n",
      "4            not responsible by disposition         NaN  \n",
      "\n",
      "[5 rows x 34 columns]\n",
      "   ticket_id                      address\n",
      "0      22056       2900 tyler, Detroit MI\n",
      "1      27586     4311 central, Detroit MI\n",
      "2      22062  1449 longfellow, Detroit MI\n",
      "3      22084  1441 longfellow, Detroit MI\n",
      "4      22093   2449 churchill, Detroit MI\n",
      "                                  address        lat        lon\n",
      "0  4300 rosa parks blvd, Detroit MI 48208  42.346169 -83.079962\n",
      "1                14512 sussex, Detroit MI  42.394657 -83.194265\n",
      "2                3456 garland, Detroit MI  42.373779 -82.986228\n",
      "3                5787 wayburn, Detroit MI  42.403342 -82.957805\n",
      "4              5766 haverhill, Detroit MI  42.407255 -82.946295\n"
     ]
    }
   ],
   "source": [
    "print(trainData.head())\n",
    "print(address.head())\n",
    "print(latlons.head())"
   ]
  },
  {
   "cell_type": "code",
   "execution_count": 31,
   "metadata": {},
   "outputs": [
    {
     "data": {
      "text/html": [
       "<div>\n",
       "<style>\n",
       "    .dataframe thead tr:only-child th {\n",
       "        text-align: right;\n",
       "    }\n",
       "\n",
       "    .dataframe thead th {\n",
       "        text-align: left;\n",
       "    }\n",
       "\n",
       "    .dataframe tbody tr th {\n",
       "        vertical-align: top;\n",
       "    }\n",
       "</style>\n",
       "<table border=\"1\" class=\"dataframe\">\n",
       "  <thead>\n",
       "    <tr style=\"text-align: right;\">\n",
       "      <th></th>\n",
       "      <th>ticket_id</th>\n",
       "      <th>lat</th>\n",
       "      <th>lon</th>\n",
       "    </tr>\n",
       "    <tr>\n",
       "      <th>address</th>\n",
       "      <th></th>\n",
       "      <th></th>\n",
       "      <th></th>\n",
       "    </tr>\n",
       "  </thead>\n",
       "  <tbody>\n",
       "    <tr>\n",
       "      <th>-11064 gratiot, Detroit MI</th>\n",
       "      <td>328722</td>\n",
       "      <td>42.406935</td>\n",
       "      <td>-82.995599</td>\n",
       "    </tr>\n",
       "    <tr>\n",
       "      <th>-11871 wilfred, Detroit MI</th>\n",
       "      <td>350971</td>\n",
       "      <td>42.411288</td>\n",
       "      <td>-82.993674</td>\n",
       "    </tr>\n",
       "    <tr>\n",
       "      <th>-15126 harper, Detroit MI</th>\n",
       "      <td>344821</td>\n",
       "      <td>42.406402</td>\n",
       "      <td>-82.957525</td>\n",
       "    </tr>\n",
       "    <tr>\n",
       "      <th>0 10th st, Detroit MI</th>\n",
       "      <td>24928</td>\n",
       "      <td>42.325689</td>\n",
       "      <td>-83.064330</td>\n",
       "    </tr>\n",
       "    <tr>\n",
       "      <th>0 10th st, Detroit MI</th>\n",
       "      <td>71887</td>\n",
       "      <td>42.325689</td>\n",
       "      <td>-83.064330</td>\n",
       "    </tr>\n",
       "  </tbody>\n",
       "</table>\n",
       "</div>"
      ],
      "text/plain": [
       "                            ticket_id        lat        lon\n",
       "address                                                    \n",
       "-11064 gratiot, Detroit MI     328722  42.406935 -82.995599\n",
       "-11871 wilfred, Detroit MI     350971  42.411288 -82.993674\n",
       "-15126 harper, Detroit MI      344821  42.406402 -82.957525\n",
       "0 10th st, Detroit MI           24928  42.325689 -83.064330\n",
       "0 10th st, Detroit MI           71887  42.325689 -83.064330"
      ]
     },
     "execution_count": 31,
     "metadata": {},
     "output_type": "execute_result"
    }
   ],
   "source": [
    "address = address.set_index('address').join(latlons.set_index('address'),how='left')\n",
    "address.head()"
   ]
  },
  {
   "cell_type": "code",
   "execution_count": 32,
   "metadata": {
    "collapsed": true
   },
   "outputs": [],
   "source": [
    "trainData = trainData.set_index('ticket_id').join(address.set_index('ticket_id'))\n",
    "testData = testData.set_index('ticket_id').join(address.set_index('ticket_id'))\n",
    "#trainData.head()"
   ]
  },
  {
   "cell_type": "code",
   "execution_count": null,
   "metadata": {
    "collapsed": true,
    "scrolled": true
   },
   "outputs": [],
   "source": [
    "#print(trainData['agency_name'].unique())\n",
    "print(len(trainData['agency_name'].unique()))\n",
    "print(trainData.shape)\n",
    "#print(trainData['inspector_name'].unique())\n",
    "print(len(trainData['inspector_name'].unique()))\n",
    "trainData.columns"
   ]
  },
  {
   "cell_type": "code",
   "execution_count": 33,
   "metadata": {
    "collapsed": true
   },
   "outputs": [],
   "source": [
    "trainData=trainData.dropna(subset=['compliance'])\n",
    "y_train = trainData['compliance']\n",
    "trainData.hearing_date.fillna(method='pad', inplace=True)\n",
    "testData.hearing_date.fillna(method='pad', inplace=True)"
   ]
  },
  {
   "cell_type": "code",
   "execution_count": null,
   "metadata": {
    "collapsed": true
   },
   "outputs": [],
   "source": [
    "trainData.columns"
   ]
  },
  {
   "cell_type": "code",
   "execution_count": 34,
   "metadata": {
    "collapsed": true
   },
   "outputs": [],
   "source": [
    "list_of_col_to_remove_train = ['payment_amount', 'payment_date','payment_status',\n",
    "                              'balance_due','collection_status', 'compliance_detail',\n",
    "                              'compliance']\n",
    "trainData.drop(list_of_col_to_remove_train, axis=1, inplace=True)"
   ]
  },
  {
   "cell_type": "code",
   "execution_count": 8,
   "metadata": {},
   "outputs": [
    {
     "name": "stdout",
     "output_type": "stream",
     "text": [
      "(159880, 28)\n"
     ]
    },
    {
     "data": {
      "text/plain": [
       "(61001, 28)"
      ]
     },
     "execution_count": 8,
     "metadata": {},
     "output_type": "execute_result"
    }
   ],
   "source": [
    "print(trainData.shape)\n",
    "testData.shape"
   ]
  },
  {
   "cell_type": "code",
   "execution_count": 35,
   "metadata": {
    "collapsed": true
   },
   "outputs": [],
   "source": [
    "trainData['TotalFee'] = trainData['admin_fee'] + trainData['state_fee']+\\\n",
    "trainData['late_fee'] - trainData['discount_amount'] + trainData['clean_up_cost']+\\\n",
    "trainData['judgment_amount']\n",
    "\n",
    "testData['TotalFee'] = testData['admin_fee'] + testData['state_fee']+\\\n",
    "testData['late_fee'] - testData['discount_amount'] + testData['clean_up_cost']+\\\n",
    "testData['judgment_amount']"
   ]
  },
  {
   "cell_type": "code",
   "execution_count": 36,
   "metadata": {
    "collapsed": true
   },
   "outputs": [],
   "source": [
    "trainData['gapdays'] = (pd.to_datetime(trainData['hearing_date'])-pd.to_datetime(trainData['ticket_issued_date'])).dt.days\n",
    "testData['gapdays'] = (pd.to_datetime(testData['hearing_date'])-pd.to_datetime(testData['ticket_issued_date'])).dt.days\n"
   ]
  },
  {
   "cell_type": "code",
   "execution_count": 11,
   "metadata": {
    "collapsed": true
   },
   "outputs": [],
   "source": [
    "list_of_col_to_remove_all = ['violation_street_number', 'violation_street_name',\n",
    "                             'violation_zip_code','mailing_address_str_number',\n",
    "                              'mailing_address_str_name','city',\n",
    "                            'state','zip_code', 'non_us_str_code', 'country',\n",
    "                            'violation_description','disposition','violator_name',\n",
    "                            'grafitti_status','ticket_issued_date','hearing_date',\n",
    "                            'admin_fee', 'state_fee', 'late_fee','discount_amount',\n",
    "                             'clean_up_cost', 'judgment_amount','inspector_name']"
   ]
  },
  {
   "cell_type": "code",
   "execution_count": 12,
   "metadata": {
    "collapsed": true
   },
   "outputs": [],
   "source": [
    "trainData.drop(list_of_col_to_remove_all, axis=1, inplace=True)\n",
    "testData.drop(list_of_col_to_remove_all, axis=1, inplace=True)"
   ]
  },
  {
   "cell_type": "code",
   "execution_count": 13,
   "metadata": {},
   "outputs": [
    {
     "name": "stdout",
     "output_type": "stream",
     "text": [
      "(159880, 7)\n",
      "(61001, 7)\n"
     ]
    }
   ],
   "source": [
    "print(trainData.shape)\n",
    "print(testData.shape)"
   ]
  },
  {
   "cell_type": "code",
   "execution_count": 24,
   "metadata": {},
   "outputs": [
    {
     "name": "stdout",
     "output_type": "stream",
     "text": [
      "Index(['agency_name', 'violation_code', 'fine_amount', 'lat', 'lon',\n",
      "       'TotalFee', 'gapdays'],\n",
      "      dtype='object')\n"
     ]
    },
    {
     "data": {
      "text/plain": [
       "Index(['agency_name', 'violation_code', 'fine_amount', 'lat', 'lon',\n",
       "       'TotalFee', 'gapdays'],\n",
       "      dtype='object')"
      ]
     },
     "execution_count": 24,
     "metadata": {},
     "output_type": "execute_result"
    }
   ],
   "source": [
    "print(trainData.columns)\n",
    "testData.columns\n",
    "#trainData.head()"
   ]
  },
  {
   "cell_type": "code",
   "execution_count": 14,
   "metadata": {},
   "outputs": [
    {
     "name": "stdout",
     "output_type": "stream",
     "text": [
      "agency_name       159880\n",
      "violation_code    159880\n",
      "fine_amount       159880\n",
      "lat               159878\n",
      "lon               159878\n",
      "TotalFee          159880\n",
      "gapdays           159880\n",
      "dtype: int64\n",
      "agency_name       61001\n",
      "violation_code    61001\n",
      "fine_amount       61001\n",
      "lat               60996\n",
      "lon               60996\n",
      "TotalFee          61001\n",
      "gapdays           61001\n",
      "dtype: int64\n"
     ]
    }
   ],
   "source": [
    "print(trainData.count())\n",
    "print(testData.count())\n",
    "\n",
    "trainData.lat.fillna(method='pad', inplace=True)\n",
    "trainData.lon.fillna(method='pad', inplace=True)\n",
    "\n",
    "testData.lat.fillna(method='pad', inplace=True)\n",
    "testData.lon.fillna(method='pad', inplace=True)\n"
   ]
  },
  {
   "cell_type": "code",
   "execution_count": 15,
   "metadata": {},
   "outputs": [
    {
     "name": "stdout",
     "output_type": "stream",
     "text": [
      "(159880, 233)\n"
     ]
    },
    {
     "data": {
      "text/plain": [
       "(61000, 233)"
      ]
     },
     "execution_count": 15,
     "metadata": {},
     "output_type": "execute_result"
    }
   ],
   "source": [
    "DataT = pd.concat([trainData,testData],axis=0)\n",
    "DataT.shape\n",
    "\n",
    "feature_to_be_splitted = ['violation_code', 'agency_name']\n",
    "DataT = pd.get_dummies(DataT, columns=feature_to_be_splitted)\n",
    "\n",
    "type(DataT)\n",
    "DataT.shape\n",
    "\n",
    "train_data = DataT.iloc[0:trainData.shape[0],]\n",
    "print(train_data.shape)\n",
    "test_data = DataT.iloc[trainData.shape[0]+1:,]\n",
    "test_data.shape"
   ]
  },
  {
   "cell_type": "code",
   "execution_count": null,
   "metadata": {
    "collapsed": true
   },
   "outputs": [],
   "source": [
    "len(trainData['violation_code'].unique())"
   ]
  },
  {
   "cell_type": "code",
   "execution_count": 16,
   "metadata": {
    "collapsed": true
   },
   "outputs": [],
   "source": [
    "lgr = LogisticRegression().fit(train_data, y_train)"
   ]
  },
  {
   "cell_type": "code",
   "execution_count": 17,
   "metadata": {
    "collapsed": true
   },
   "outputs": [],
   "source": [
    "nb = GaussianNB().fit(train_data, y_train)"
   ]
  },
  {
   "cell_type": "code",
   "execution_count": 18,
   "metadata": {
    "collapsed": true
   },
   "outputs": [],
   "source": [
    "rf = RandomForestClassifier().fit(train_data, y_train)"
   ]
  },
  {
   "cell_type": "code",
   "execution_count": 19,
   "metadata": {
    "collapsed": true
   },
   "outputs": [],
   "source": [
    "gb = GradientBoostingClassifier().fit(train_data, y_train)"
   ]
  },
  {
   "cell_type": "code",
   "execution_count": 20,
   "metadata": {
    "collapsed": true
   },
   "outputs": [],
   "source": [
    "nn = MLPClassifier(solver='lbfgs', random_state = 0).fit(train_data, y_train)"
   ]
  },
  {
   "cell_type": "code",
   "execution_count": 21,
   "metadata": {
    "collapsed": true
   },
   "outputs": [],
   "source": [
    "dummy_majority = DummyClassifier(strategy = 'most_frequent').fit(train_data, y_train)"
   ]
  },
  {
   "cell_type": "code",
   "execution_count": null,
   "metadata": {
    "collapsed": true
   },
   "outputs": [],
   "source": [
    "svec = SVC(kernel='linear', C=1).fit(train_data,y_train)"
   ]
  },
  {
   "cell_type": "code",
   "execution_count": 35,
   "metadata": {
    "collapsed": true
   },
   "outputs": [],
   "source": [
    "dt = DecisionTreeClassifier(max_depth=2).fit(train_data, y_train)"
   ]
  },
  {
   "cell_type": "code",
   "execution_count": 34,
   "metadata": {},
   "outputs": [
    {
     "name": "stderr",
     "output_type": "stream",
     "text": [
      "/home/pegah/anaconda2/lib/python2.7/site-packages/sklearn/linear_model/base.py:340: RuntimeWarning: overflow encountered in exp\n",
      "  np.exp(prob, prob)\n"
     ]
    }
   ],
   "source": [
    "test_proba = clf.predict_proba(test_data)[:,1]"
   ]
  },
  {
   "cell_type": "code",
   "execution_count": 22,
   "metadata": {},
   "outputs": [],
   "source": [
    "pred_lgr = lgr.predict(test_data)\n",
    "pred_nb = nb.predict(test_data)\n",
    "pred_rf = rf.predict(test_data)\n",
    "pred_gb = gb.predict(test_data)\n",
    "pred_nn = nn.predict(test_data)\n",
    "pred_dummy = dummy_majority.predict(test_data)\n",
    "#pred_svec = svec.predict(test_data)\n",
    "#pred_dt = dt.predict(test_data)"
   ]
  },
  {
   "cell_type": "code",
   "execution_count": 26,
   "metadata": {},
   "outputs": [
    {
     "name": "stdout",
     "output_type": "stream",
     "text": [
      "('Cross-validation (accuracy)', array([ 0.9293242 ,  0.93858085,  0.94054916,  0.92813135,  0.93413604]))\n",
      "('Cross-validation (AUC)', array([ 0.76508695,  0.75045503,  0.80743313,  0.75879914,  0.75067282]))\n"
     ]
    }
   ],
   "source": [
    "# accuracy is the default scoring metric\n",
    "print('Cross-validation (accuracy)', cross_val_score(gb, train_data, y_train, cv=5))\n",
    "# use AUC as scoring metric\n",
    "print('Cross-validation (AUC)', cross_val_score(gb, train_data, y_train, cv=5, scoring = 'roc_auc'))"
   ]
  },
  {
   "cell_type": "code",
   "execution_count": 27,
   "metadata": {},
   "outputs": [
    {
     "name": "stdout",
     "output_type": "stream",
     "text": [
      "('Cross-validation (accuracy)', array([ 0.92719767,  0.92772931,  0.9276645 ,  0.92759969,  0.92631744]))\n",
      "('Cross-validation (AUC)', array([ 0.73149521,  0.73869091,  0.80574285,  0.75974651,  0.76750552]))\n"
     ]
    },
    {
     "data": {
      "text/plain": [
       "0.92730171997838373"
      ]
     },
     "execution_count": 27,
     "metadata": {},
     "output_type": "execute_result"
    }
   ],
   "source": [
    "# accuracy is the default scoring metric\n",
    "print('Cross-validation (accuracy)', cross_val_score(lgr, train_data, y_train, cv=5))\n",
    "# use AUC as scoring metric\n",
    "print('Cross-validation (AUC)', cross_val_score(lgr, train_data, y_train, cv=5, scoring = 'roc_auc'))\n",
    "np.mean(cross_val_score(lgr, train_data, y_train, cv=5))"
   ]
  },
  {
   "cell_type": "code",
   "execution_count": null,
   "metadata": {
    "collapsed": true
   },
   "outputs": [],
   "source": [
    "# accuracy is the default scoring metric\n",
    "print('Cross-validation (accuracy)', cross_val_score(rf, train_data, y_train, cv=5))\n",
    "# use AUC as scoring metric\n",
    "print('Cross-validation (AUC)', cross_val_score(rf, train_data, y_train, cv=5, scoring = 'roc_auc'))"
   ]
  },
  {
   "cell_type": "code",
   "execution_count": 22,
   "metadata": {},
   "outputs": [
    {
     "name": "stdout",
     "output_type": "stream",
     "text": [
      "586.0\n",
      "13359.0\n",
      "2292.0\n",
      "1423.0\n",
      "1143.0\n",
      "0.0\n"
     ]
    }
   ],
   "source": [
    "print(sum(pred_lgr))\n",
    "print(sum(pred_nb))\n",
    "print(sum(pred_rf))\n",
    "print(sum(pred_gb))\n",
    "print(sum(pred_nn))\n",
    "print(sum(pred_dummy))\n",
    "print(sum(pred_svec))"
   ]
  },
  {
   "cell_type": "code",
   "execution_count": 29,
   "metadata": {},
   "outputs": [
    {
     "name": "stdout",
     "output_type": "stream",
     "text": [
      "[ 0.76362913  0.76019965  0.7606362   0.76062513  0.7605634 ]\n"
     ]
    }
   ],
   "source": [
    "# add regularization \n",
    "rocVec = np.zeros(5)\n",
    "for iter,g in enumerate([0.01, 0.1, 1, 10, 100]):\n",
    "    lgr = LogisticRegression(C=g).fit(train_data, y_train)\n",
    "    rocVec[iter] = np.mean(cross_val_score(lgr, train_data, y_train, cv=5, scoring = 'roc_auc'))\n",
    "print(rocVec)"
   ]
  },
  {
   "cell_type": "code",
   "execution_count": null,
   "metadata": {
    "collapsed": true
   },
   "outputs": [],
   "source": [
    "#blight_model()"
   ]
  }
 ],
 "metadata": {
  "coursera": {
   "course_slug": "python-machine-learning",
   "graded_item_id": "nNS8l",
   "launcher_item_id": "yWWk7",
   "part_id": "w8BSS"
  },
  "kernelspec": {
   "display_name": "Python 2",
   "language": "python",
   "name": "python2"
  },
  "language_info": {
   "codemirror_mode": {
    "name": "ipython",
    "version": 2
   },
   "file_extension": ".py",
   "mimetype": "text/x-python",
   "name": "python",
   "nbconvert_exporter": "python",
   "pygments_lexer": "ipython2",
   "version": "2.7.14"
  }
 },
 "nbformat": 4,
 "nbformat_minor": 2
}
